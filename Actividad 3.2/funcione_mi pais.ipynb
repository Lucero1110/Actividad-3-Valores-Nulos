{
 "cells": [
  {
   "cell_type": "code",
   "execution_count": 1,
   "metadata": {},
   "outputs": [],
   "source": [
    "#Importamos las librerias pandas, numpy y matplotlib respectivamente\n",
    "import pandas as pd\n",
    "import numpy as np\n",
    "import matplotlib.pyplot as plt"
   ]
  },
  {
   "cell_type": "code",
   "execution_count": null,
   "metadata": {},
   "outputs": [],
   "source": [
    "#Carga desde un archivo .csv sin indice\n",
    "data = pd.read_csv('Athenas_Grecia_Dt.csv')\n",
    "data.head(5)"
   ]
  },
  {
   "cell_type": "code",
   "execution_count": null,
   "metadata": {},
   "outputs": [],
   "source": [
    "data.info()"
   ]
  },
  {
   "cell_type": "code",
   "execution_count": 17,
   "metadata": {},
   "outputs": [
    {
     "data": {
      "text/plain": [
       "np.int64(33602)"
      ]
     },
     "execution_count": 17,
     "metadata": {},
     "output_type": "execute_result"
    }
   ],
   "source": [
    "valores_nulos = data.isnull().sum()\n",
    "val_num =data.isnull().sum().sum()\n",
    "valores_nulos\n",
    "val_num"
   ]
  },
  {
   "cell_type": "markdown",
   "metadata": {},
   "source": [
    "**Sustitución por promedio**"
   ]
  },
  {
   "cell_type": "markdown",
   "metadata": {},
   "source": [
    "***declaramos una función que me pueda sacar promedio del data, para ello utilizamos solamente los valores cuantitaivos***"
   ]
  },
  {
   "cell_type": "code",
   "execution_count": 34,
   "metadata": {},
   "outputs": [],
   "source": [
    "def sustitución_promedio(data):\n",
    "    #Separo columnas cuantitativas del dataframe\n",
    "    cuantitativas_con_nulos = data.select_dtypes(include=['float64', 'int64','float','int'])\n",
    "    #Separo columnas cualitativas del dataframe\n",
    "    cualitativas = data.select_dtypes(include=['object', 'datetime','category'])\n",
    "    #Sustituir valores nulos con promedio o media\n",
    "    cuantitativas = cuantitativas_con_nulos.fillna(round(cuantitativas_con_nulos.mean(), 1))\n",
    "    # Unimos el dataframe cuantitativo limpio con el dataframe cualitativo\n",
    "    Datos_sin_nulos = pd.concat([cuantitativas, cualitativas], axis=1)\n",
    "    \n",
    "    return(Datos_sin_nulos)"
   ]
  },
  {
   "cell_type": "code",
   "execution_count": null,
   "metadata": {},
   "outputs": [
    {
     "data": {
      "text/plain": [
       "np.int64(13141)"
      ]
     },
     "execution_count": 35,
     "metadata": {},
     "output_type": "execute_result"
    }
   ],
   "source": [
    "dataframe_sin_nulos=sustitución_promedio(data)\n",
    "dataframe_sin_nulos\n",
    "\n",
    "valores_nulos1 = dataframe_sin_nulos.isnull().sum()\n",
    "valores_nulos1\n",
    "val_num =dataframe_sin_nulos.isnull().sum().sum()\n",
    "val_num\n",
    "dataframe_sin_nulos.to_csv(\"sus_promedio.csv\")"
   ]
  },
  {
   "cell_type": "markdown",
   "metadata": {},
   "source": [
    "**Sustitución por mediana**"
   ]
  },
  {
   "cell_type": "markdown",
   "metadata": {},
   "source": [
    "***declaramos una función que me pueda sacar mediana del data, para ello utilizamos solamente los valores cuantitaivos***"
   ]
  },
  {
   "cell_type": "code",
   "execution_count": 60,
   "metadata": {},
   "outputs": [],
   "source": [
    "def sustitución_mediana(data):\n",
    "    #Separo columnas cuantitativas del dataframe\n",
    "    cuantitativas_con_nulos = data.select_dtypes(include=['float64', 'int64','float','int'])\n",
    "    #Separo columnas cualitativas del dataframe\n",
    "    cualitativas = data.select_dtypes(include=['object', 'datetime','category'])\n",
    "    #Sustituir valores nulos con promedio o media\n",
    "    cuantitativas = cuantitativas_con_nulos.fillna(round(cuantitativas_con_nulos.median(), 1))\n",
    "    # Unimos el dataframe cuantitativo limpio con el dataframe cualitativo\n",
    "    Datos_sin_nulos = pd.concat([cuantitativas, cualitativas], axis=1)\n",
    "    \n",
    "    return(Datos_sin_nulos)"
   ]
  },
  {
   "cell_type": "code",
   "execution_count": 61,
   "metadata": {},
   "outputs": [],
   "source": [
    "dataframe_sin_nulos2=sustitución_mediana(data)\n",
    "dataframe_sin_nulos2\n",
    "\n",
    "valores_nulos = dataframe_sin_nulos2.isnull().sum()\n",
    "valores_nulos\n",
    "val_num =dataframe_sin_nulos2.isnull().sum().sum()\n",
    "val_num\n",
    "dataframe_sin_nulos2.to_csv(\"sus_mediana.csv\")"
   ]
  },
  {
   "cell_type": "markdown",
   "metadata": {},
   "source": [
    "**Sustituimos por FFILL**"
   ]
  },
  {
   "cell_type": "markdown",
   "metadata": {},
   "source": [
    "***Sustituimos los valores nulos cualitativos con ffill***"
   ]
  },
  {
   "cell_type": "code",
   "execution_count": 58,
   "metadata": {},
   "outputs": [],
   "source": [
    "def sustitución_ffill(data):\n",
    "    #Separo columnas cuantitativas del dataframe\n",
    "    cuantitativas = data.select_dtypes(include=['float64', 'int64','float','int'])\n",
    "    #Separo columnas cualitativas del dataframe\n",
    "    cualitativas = data.select_dtypes(include=['object', 'datetime','category'])\n",
    "    #Sustituir valores nulos con promedio o media\n",
    "    cuanlitativas = cualitativas.fillna(method='ffill')\n",
    "\n",
    "    # Unimos el dataframe cuantitativo limpio con el dataframe cualitativo\n",
    "    Datos_sin_nulos = pd.concat([cuantitativas, cualitativas], axis=1)\n",
    "    \n",
    "    return(Datos_sin_nulos)"
   ]
  },
  {
   "cell_type": "code",
   "execution_count": null,
   "metadata": {},
   "outputs": [
    {
     "name": "stderr",
     "output_type": "stream",
     "text": [
      "C:\\Users\\Lenovo\\AppData\\Local\\Temp\\ipykernel_1084\\2597316570.py:7: FutureWarning: DataFrame.fillna with 'method' is deprecated and will raise in a future version. Use obj.ffill() or obj.bfill() instead.\n",
      "  cuanlitativas = cualitativas.fillna(method='ffill')\n"
     ]
    },
    {
     "data": {
      "text/plain": [
       "np.int64(33602)"
      ]
     },
     "execution_count": 62,
     "metadata": {},
     "output_type": "execute_result"
    }
   ],
   "source": [
    "dataframe_sin_nulos3=sustitución_ffill(data)\n",
    "dataframe_sin_nulos3\n",
    "\n",
    "valores_nulos = dataframe_sin_nulos3.isnull().sum()\n",
    "valores_nulos\n",
    "val_num =dataframe_sin_nulos3.isnull().sum().sum()\n",
    "val_num\n",
    "dataframe_sin_nulos3.to_csv(\"sus_ffill.csv\")"
   ]
  },
  {
   "cell_type": "markdown",
   "metadata": {},
   "source": [
    "**Sustitución con bfill**"
   ]
  },
  {
   "cell_type": "markdown",
   "metadata": {},
   "source": [
    "****Sustituimos los valores nulos cualitativos con bfill****"
   ]
  },
  {
   "cell_type": "code",
   "execution_count": 56,
   "metadata": {},
   "outputs": [],
   "source": [
    "def sustitución_bfill(data):\n",
    "    #Separo columnas cuantitativas del dataframe\n",
    "    cuantitativas = data.select_dtypes(include=['float64', 'int64','float','int'])\n",
    "    #Separo columnas cualitativas del dataframe\n",
    "    cualitativas = data.select_dtypes(include=['object', 'datetime','category'])\n",
    "    #Sustituir valores nulos con promedio o media\n",
    "    cuanlitativas = cualitativas.fillna(method='bfill')\n",
    "\n",
    "    # Unimos el dataframe cuantitativo limpio con el dataframe cualitativo\n",
    "    Datos_sin_nulos = pd.concat([cuantitativas, cualitativas], axis=1)\n",
    "    \n",
    "    return(Datos_sin_nulos)"
   ]
  },
  {
   "cell_type": "code",
   "execution_count": null,
   "metadata": {},
   "outputs": [
    {
     "name": "stderr",
     "output_type": "stream",
     "text": [
      "C:\\Users\\Lenovo\\AppData\\Local\\Temp\\ipykernel_1084\\3641341825.py:7: FutureWarning: DataFrame.fillna with 'method' is deprecated and will raise in a future version. Use obj.ffill() or obj.bfill() instead.\n",
      "  cuanlitativas = cualitativas.fillna(method='bfill')\n"
     ]
    },
    {
     "data": {
      "text/plain": [
       "np.int64(33602)"
      ]
     },
     "execution_count": 63,
     "metadata": {},
     "output_type": "execute_result"
    }
   ],
   "source": [
    "dataframe_sin_nulos4=sustitución_bfill(data)\n",
    "dataframe_sin_nulos4\n",
    "\n",
    "valores_nulos = dataframe_sin_nulos4.isnull().sum()\n",
    "valores_nulos\n",
    "val_num =dataframe_sin_nulos4.isnull().sum().sum()\n",
    "val_num\n",
    "dataframe_sin_nulos4.to_csv(\"sus_bfill.csv\")"
   ]
  },
  {
   "cell_type": "markdown",
   "metadata": {},
   "source": [
    "**Sustitución con string**"
   ]
  },
  {
   "cell_type": "markdown",
   "metadata": {},
   "source": [
    "****Sustituimos los valores nulos cualitativos con string****"
   ]
  },
  {
   "cell_type": "code",
   "execution_count": 54,
   "metadata": {},
   "outputs": [],
   "source": [
    "def sustitución_string(data):\n",
    "    #Separo columnas cuantitativas del dataframe\n",
    "    cuantitativas = data.select_dtypes(include=['float64', 'int64','float','int'])\n",
    "    #Separo columnas cualitativas del dataframe\n",
    "    cualitativas = data.select_dtypes(include=['object', 'datetime','category'])\n",
    "    #Sustituir valores nulos con promedio o media\n",
    "    cuanlitativas = cualitativas.fillna(\"NO HAY DATOS\")\n",
    "\n",
    "    # Unimos el dataframe cuantitativo limpio con el dataframe cualitativo\n",
    "    Datos_sin_nulos = pd.concat([cuantitativas, cualitativas], axis=1)\n",
    "    \n",
    "    return(Datos_sin_nulos)"
   ]
  },
  {
   "cell_type": "code",
   "execution_count": null,
   "metadata": {},
   "outputs": [
    {
     "data": {
      "text/plain": [
       "np.int64(33602)"
      ]
     },
     "execution_count": 64,
     "metadata": {},
     "output_type": "execute_result"
    }
   ],
   "source": [
    "dataframe_sin_nulos5=sustitución_string(data)\n",
    "dataframe_sin_nulos5\n",
    "\n",
    "valores_nulos = dataframe_sin_nulos5.isnull().sum()\n",
    "valores_nulos\n",
    "val_num =dataframe_sin_nulos5.isnull().sum().sum()\n",
    "val_num\n",
    "\n",
    "dataframe_sin_nulos5.to_csv(\"sus_string.csv\")"
   ]
  },
  {
   "cell_type": "markdown",
   "metadata": {},
   "source": [
    "**Sustitución con enteros**"
   ]
  },
  {
   "cell_type": "markdown",
   "metadata": {},
   "source": [
    "****Sustituimos los valores nulos cualitativos con fillna(int)****"
   ]
  },
  {
   "cell_type": "code",
   "execution_count": 52,
   "metadata": {},
   "outputs": [],
   "source": [
    "def sustitución_int(data):\n",
    "    #Separo columnas cuantitativas del dataframe\n",
    "    cuantitativas = data.select_dtypes(include=['float64', 'int64','float','int'])\n",
    "    #Separo columnas cualitativas del dataframe\n",
    "    cualitativas = data.select_dtypes(include=['object', 'datetime','category'])\n",
    "    #Sustituir valores nulos con promedio o media\n",
    "    cuantitativas = cuantitativas.fillna(10000)\n",
    "\n",
    "    # Unimos el dataframe cuantitativo limpio con el dataframe cualitativo\n",
    "    Datos_sin_nulos = pd.concat([cuantitativas, cualitativas], axis=1)\n",
    "    \n",
    "    return(Datos_sin_nulos)"
   ]
  },
  {
   "cell_type": "code",
   "execution_count": null,
   "metadata": {},
   "outputs": [
    {
     "data": {
      "text/plain": [
       "np.int64(13141)"
      ]
     },
     "execution_count": 65,
     "metadata": {},
     "output_type": "execute_result"
    }
   ],
   "source": [
    "dataframe_sin_nulos6=sustitución_int(data)\n",
    "dataframe_sin_nulos6\n",
    "\n",
    "valores_nulos = dataframe_sin_nulos6.isnull().sum()\n",
    "valores_nulos\n",
    "val_num =dataframe_sin_nulos6.isnull().sum().sum()\n",
    "val_num\n",
    "\n",
    "dataframe_sin_nulos6.to_csv(\"sus_Int.csv\")"
   ]
  }
 ],
 "metadata": {
  "kernelspec": {
   "display_name": "Python 3",
   "language": "python",
   "name": "python3"
  },
  "language_info": {
   "codemirror_mode": {
    "name": "ipython",
    "version": 3
   },
   "file_extension": ".py",
   "mimetype": "text/x-python",
   "name": "python",
   "nbconvert_exporter": "python",
   "pygments_lexer": "ipython3",
   "version": "3.13.2"
  }
 },
 "nbformat": 4,
 "nbformat_minor": 2
}
